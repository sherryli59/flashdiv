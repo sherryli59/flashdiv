{
 "cells": [
  {
   "cell_type": "code",
   "execution_count": 7,
   "id": "eacaba7d",
   "metadata": {},
   "outputs": [],
   "source": [
    "from flashdiv.lj.lj import LJ\n",
    "import torch\n",
    "from flashdiv.flows.egnn_cutoff import EGNN_dynamicsPeriodic"
   ]
  },
  {
   "cell_type": "code",
   "execution_count": 5,
   "id": "3e62b2fc",
   "metadata": {},
   "outputs": [],
   "source": [
    "x = torch.randn(3, 3)*3\n",
    "lj = LJ()\n",
    "force = lj.force(x)  # Example input tensor\n",
    "lambda_t = torch.zeros(x.shape[0], device=x.device)  # Example lambda_t tensor\n",
    "force_2 = lj.force_softcore(x, lambda_t)"
   ]
  },
  {
   "cell_type": "code",
   "execution_count": null,
   "id": "926f5ec2",
   "metadata": {},
   "outputs": [
    {
     "name": "stdout",
     "output_type": "stream",
     "text": [
      "Initializing custom EGNN_dynamics\n"
     ]
    }
   ],
   "source": [
    "model = EGNN_dynamicsPeriodic(n_particles=3, n_dimension=3,boxlength=4,out_node_nf=64)"
   ]
  },
  {
   "cell_type": "code",
   "execution_count": 18,
   "id": "33c7ee59",
   "metadata": {},
   "outputs": [],
   "source": [
    "t = torch.ones(5)\n",
    "x = 10*torch.randn(5, 4, 3)\n",
    "out = model(x,t)"
   ]
  },
  {
   "cell_type": "code",
   "execution_count": 19,
   "id": "6803cc77",
   "metadata": {},
   "outputs": [],
   "source": [
    "out2 = model(x+100,t)"
   ]
  },
  {
   "cell_type": "code",
   "execution_count": 20,
   "id": "6de903f8",
   "metadata": {},
   "outputs": [
    {
     "data": {
      "text/plain": [
       "tensor([[[ 1.0878e-06,  4.6939e-07, -7.0781e-07],\n",
       "         [ 1.5646e-07,  4.9174e-07,  5.7369e-07],\n",
       "         [-9.2387e-07, -8.4192e-07,  6.2585e-07],\n",
       "         [-3.4273e-07, -1.6391e-07, -6.4820e-07]],\n",
       "\n",
       "        [[-2.9802e-08, -1.1120e-06, -1.4901e-08],\n",
       "         [ 1.4305e-06,  6.5565e-07, -3.5763e-07],\n",
       "         [-5.3644e-07, -4.1723e-07,  9.2387e-07],\n",
       "         [-8.4192e-07,  9.2387e-07, -4.9174e-07]],\n",
       "\n",
       "        [[-4.4703e-07, -5.9605e-08,  2.3842e-07],\n",
       "         [ 1.4901e-06, -1.4901e-08, -9.2387e-07],\n",
       "         [-5.2154e-07, -3.5763e-07, -5.5134e-07],\n",
       "         [-5.1409e-07,  3.2783e-07,  1.1176e-06]],\n",
       "\n",
       "        [[ 6.4075e-07,  2.7567e-07,  9.9838e-07],\n",
       "         [-1.4901e-07, -3.2783e-07, -9.9838e-07],\n",
       "         [-1.9372e-07, -2.0862e-07,  9.9093e-07],\n",
       "         [-2.3842e-07,  1.7881e-07, -1.0058e-06]],\n",
       "\n",
       "        [[ 4.5821e-07,  9.8348e-07,  3.8743e-07],\n",
       "         [ 3.8743e-07,  1.7881e-07,  2.9802e-08],\n",
       "         [-1.1921e-06, -1.6540e-06,  5.3644e-07],\n",
       "         [ 3.8743e-07,  4.1723e-07, -1.0282e-06]]], grad_fn=<SubBackward0>)"
      ]
     },
     "execution_count": 20,
     "metadata": {},
     "output_type": "execute_result"
    }
   ],
   "source": [
    "out - out2"
   ]
  },
  {
   "cell_type": "code",
   "execution_count": 8,
   "id": "6cb7f69c",
   "metadata": {},
   "outputs": [
    {
     "data": {
      "text/plain": [
       "tensor([[ 0.0049,  0.4121, -0.3044],\n",
       "        [-1.4288, -0.8885,  2.9536],\n",
       "        [ 1.4239,  0.4764, -2.6492]])"
      ]
     },
     "execution_count": 8,
     "metadata": {},
     "output_type": "execute_result"
    }
   ],
   "source": [
    "force_2"
   ]
  }
 ],
 "metadata": {
  "kernelspec": {
   "display_name": "lightning",
   "language": "python",
   "name": "python3"
  },
  "language_info": {
   "codemirror_mode": {
    "name": "ipython",
    "version": 3
   },
   "file_extension": ".py",
   "mimetype": "text/x-python",
   "name": "python",
   "nbconvert_exporter": "python",
   "pygments_lexer": "ipython3",
   "version": "3.11.9"
  }
 },
 "nbformat": 4,
 "nbformat_minor": 5
}
