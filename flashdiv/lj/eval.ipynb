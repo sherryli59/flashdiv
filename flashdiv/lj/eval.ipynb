{
 "cells": [
  {
   "cell_type": "code",
   "execution_count": null,
   "id": "a1d29714",
   "metadata": {},
   "outputs": [
    {
     "name": "stdout",
     "output_type": "stream",
     "text": [
      "The autoreload extension is already loaded. To reload it, use:\n",
      "  %reload_ext autoreload\n"
     ]
    }
   ],
   "source": [
    "from flashdiv.flows.trainer import FlowTrainer\n",
    "from flashdiv.flows.gnn import EGNN_dynamics\n",
    "from flashdiv.flows.architectures import VelocityFlowLJ\n",
    "import torch\n",
    "import torch.nn as nn\n",
    "import numpy as np\n",
    "import sys\n",
    "from einops import rearrange, repeat, reduce\n",
    "from torch.func import jvp\n",
    "import matplotlib.pyplot as plt\n",
    "%load_ext autoreload\n",
    "%autoreload 2\n",
    "import math\n"
   ]
  },
  {
   "cell_type": "code",
   "execution_count": 4,
   "id": "d2b322cc",
   "metadata": {},
   "outputs": [],
   "source": [
    "class BaseDistribution(torch.nn.Module):\n",
    "    def __init__(self, nparticles=4, dim=2, batch_size=10, device='cuda'):\n",
    "        super(BaseDistribution, self).__init__()\n",
    "        self.batch_size = batch_size\n",
    "        self.nparticles = nparticles\n",
    "        self.dim = dim\n",
    "        self.param = torch.nn.Parameter(torch.randn(batch_size,nparticles,dim).to(device))\n",
    "\n",
    "    @property\n",
    "    def state(self):\n",
    "        return self.param\n",
    "\n",
    "    def potential(self, x):\n",
    "        pass\n",
    "\n",
    "    def forward(self, x=None):\n",
    "        return self.log_prob(x)\n",
    "\n",
    "    def log_prob(self, x=None):\n",
    "        if x is None:\n",
    "            x = self.param\n",
    "        return -self.potential(x)\n",
    "\n",
    "    def grad_log_prob(self, x=None):\n",
    "        if x is None:\n",
    "            x = self.param\n",
    "        x.requires_grad_(True)\n",
    "        with torch.enable_grad():\n",
    "            return  -torch.autograd.grad(-self.potential(x), x,\n",
    "                                         torch.ones(x.shape[0]).to(x.device), create_graph=True)[0]\n",
    "\n",
    "    def neg_force_clipped(self, x=None, max_val=80):\n",
    "        if x is None:\n",
    "            x = self.param\n",
    "        return torch.clip(self.grad_log_prob(x),-max_val,max_val)\n",
    "\n",
    "    def reset_parameters(self):\n",
    "        self.param.data = torch.randn(self.batch_size,self.nparticles,self.dim).to(self.param.device)\n",
    "\n",
    "class LJ(BaseDistribution):\n",
    "    def __init__(self, nparticles=10, dim=3, batch_size=10,\n",
    "                  device=\"cuda\", boxlength=None, kT=1,\n",
    "                  epsilon=1., sigma=1., cutoff=None, shift=True,\n",
    "                  periodic=False, spring_constant=0.001):\n",
    "        super(LJ, self).__init__(nparticles=nparticles, dim=dim, batch_size=batch_size, device=device)\n",
    "        self.kT = kT\n",
    "        self.epsilon=epsilon\n",
    "        self.sigma=sigma\n",
    "        self.cutoff=cutoff\n",
    "        self.shift=shift\n",
    "        self.boxlength=boxlength\n",
    "        self.periodic=periodic\n",
    "        self.spring_constant=spring_constant\n",
    "\n",
    "\n",
    "    def potential(self,particle_pos, min_dist=None, turn_off_harmonic=False):\n",
    "        \"\"\"\n",
    "        Calculates Lennard_Jones potential between particles\n",
    "        Arguments:\n",
    "        particle_pos: A tensor of shape (n_particles, n_dimensions)\n",
    "        representing the particle positions\n",
    "        boxlength: A tensor of shape (1) representing the box length\n",
    "        epsilon: A float representing epsilon parameter in LJ\n",
    "        Returns:\n",
    "        total_potential: A tensor of shape (n_particles, n_dimensions)\n",
    "        representing the total potential of the system\n",
    "        \"\"\"\n",
    "        pair_vec = self.pair_vec(particle_pos)\n",
    "        distances = torch.linalg.norm(pair_vec.float(), axis=-1)\n",
    "        rem_dims = distances.shape[:-2]\n",
    "        n = distances.shape[-1]\n",
    "        distances = distances.flatten(start_dim=-2)[...,1:].view(*rem_dims,n-1, n+1)[...,:-1].reshape(*rem_dims,n, n-1)\n",
    "        scaled_distances = distances\n",
    "        if min_dist is not None:\n",
    "            scaled_distances = torch.clamp(scaled_distances,min=min_dist)\n",
    "        distances_inverse = 1/scaled_distances\n",
    "        if self.cutoff is not None:\n",
    "            distances_inverse = distances_inverse-(distances >self.cutoff)*distances_inverse\n",
    "            pow_6 = torch.pow(self.sigma*distances_inverse, 6)\n",
    "            if self.shift:\n",
    "                pow_6_shift = (self.sigma/self.cutoff)**6\n",
    "                pair_potential = self.epsilon * 4 * (torch.pow(pow_6, 2)\n",
    "                                        - pow_6 - pow_6_shift**2+pow_6_shift)\n",
    "            else:\n",
    "                pair_potential = self.epsilon * 4 * (torch.pow(pow_6, 2)\n",
    "                                        - pow_6)\n",
    "        else:\n",
    "            pow_6 = torch.pow(self.sigma*distances_inverse, 6)\n",
    "            pair_potential = self.epsilon * 4 * (torch.pow(pow_6, 2)\n",
    "                                        - pow_6)\n",
    "        pair_potential = pair_potential *distances_inverse*distances\n",
    "        total_potential = torch.sum(pair_potential,axis=(-1,-2))/2\n",
    "        if not self.periodic and not turn_off_harmonic:\n",
    "            total_potential += self.harmonic_potential(particle_pos)\n",
    "        return total_potential\n",
    "\n",
    "\n",
    "    def log_likelihood(self,particle_pos, min_dist=None):\n",
    "        \"\"\"\n",
    "        heat version of logprob\n",
    "        \"\"\"\n",
    "        return - self.potential(particle_pos, min_dist=min_dist) / self.kT\n",
    "\n",
    "\n",
    "    def harmonic_force(self,particle_pos):\n",
    "        com = torch.mean(particle_pos,axis=-2,keepdim=True)\n",
    "        rel_pos = particle_pos - com\n",
    "        harm_f = -self.spring_constant*rel_pos\n",
    "        return harm_f\n",
    "\n",
    "    def harmonic_potential(self,particle_pos):\n",
    "        com = torch.mean(particle_pos,axis=-2,keepdim=True)\n",
    "        rel_pos = particle_pos - com\n",
    "        harm_pot = 0.5*self.spring_constant*(rel_pos)**2\n",
    "        return harm_pot.sum(axis=(-1,-2))\n",
    "\n",
    "    def grad_log_prob(self, x=None):\n",
    "        if x is None:\n",
    "            x = self.param\n",
    "        return self.force(x)\n",
    "\n",
    "    def force(self,particle_pos,min_dist=None):\n",
    "        \"\"\"\n",
    "        Calculates Lennard_Jones force between particles\n",
    "        Arguments:\n",
    "            particle_pos: A tensor of shape (n_particles, n_dimensions)\n",
    "        representing the particle positions\n",
    "        box_length: A tensor of shape (1) representing the box length\n",
    "        epsilon: A float representing epsilon parameter in LJ\n",
    "\n",
    "        Returns:\n",
    "            total_force_on_particle: A tensor of shape (n_particles, n_dimensions)\n",
    "        representing the total force on a particle\n",
    "         \"\"\"\n",
    "        eps = self.epsilon\n",
    "        sig = self.sigma\n",
    "        pair_vec = self.pair_vec(particle_pos)\n",
    "        distances = torch.linalg.norm(pair_vec.float(), axis=-1)\n",
    "        scaled_distances = distances + (distances == 0)\n",
    "        if min_dist is not None:\n",
    "            scaled_distances = torch.clamp(scaled_distances,min=min_dist)\n",
    "        distances_inverse = 1/scaled_distances\n",
    "        if self.cutoff is not None:\n",
    "            distances_inverse = distances_inverse-(distances >self.cutoff)*distances_inverse\n",
    "            pow_6 = torch.pow(sig*distances_inverse, 6)\n",
    "            force_mag = eps * 24 * (2 * torch.pow(pow_6, 2)\n",
    "                                    - pow_6)*sig*distances_inverse\n",
    "        else:\n",
    "            pow_6 = torch.pow(sig/scaled_distances, 6)\n",
    "            force_mag = eps * 24 * (2 * torch.pow(pow_6, 2)\n",
    "                                    - pow_6)*sig*distances_inverse\n",
    "        force_mag = force_mag * distances_inverse\n",
    "        force = -force_mag.unsqueeze(-1) * pair_vec\n",
    "        total_force = torch.sum(force, dim=1)\n",
    "        if not self.periodic:\n",
    "            total_force += self.harmonic_force(particle_pos)\n",
    "        return total_force\n",
    "\n",
    "    def pair_vec(self,particle_pos):\n",
    "        pair_vec = (particle_pos.unsqueeze(-2) - particle_pos.unsqueeze(-3))\n",
    "        if self.periodic:\n",
    "            to_subtract = ((torch.abs(pair_vec)> 0.5 * self.boxlength)\n",
    "                        * torch.sign(pair_vec) * self.boxlength)\n",
    "            pair_vec -= to_subtract\n",
    "        return pair_vec\n",
    "\n",
    "    def g_r(self,particle_pos, bins=100):\n",
    "        dim = particle_pos.shape[-1]\n",
    "        pair_vec = self.pair_vec(particle_pos)\n",
    "        nsamples = len(pair_vec)\n",
    "        nparticles = pair_vec.shape[1]\n",
    "        distances = torch.linalg.norm(pair_vec.float(), axis=-1)\n",
    "        # remove diagonal zeros\n",
    "        rem_dims = distances.shape[:-2]\n",
    "        distances = distances.flatten(start_dim=-2)[...,1:].view(\n",
    "        *rem_dims,nparticles-1, nparticles+1)[...,:-1].reshape(*rem_dims,nparticles, nparticles-1)\n",
    "        if self.periodic:\n",
    "            counts,bins = np.histogram(distances.detach().cpu().numpy(),bins=bins)\n",
    "            if dim == 2:\n",
    "                bulk_density = nparticles/(self.boxlength**2)\n",
    "                areas = math.pi*(bins[1:]**2-bins[:-1]**2)\n",
    "            elif dim == 3:\n",
    "                bulk_density = nparticles/(self.boxlength**3)\n",
    "                areas = 4*math.pi*bins[1:]**2\n",
    "            g_r = counts/(nparticles-1)**2/nsamples/areas/bulk_density\n",
    "        else:\n",
    "            com = torch.mean(particle_pos,axis=1)\n",
    "            dist_from_com = torch.linalg.norm(particle_pos-com.unsqueeze(1),axis=-1)\n",
    "            com_atom = torch.min(dist_from_com,axis=1)[1]\n",
    "            distances = distances[torch.arange(distances.shape[0]),com_atom].flatten()\n",
    "            counts,bins = np.histogram(distances.detach().cpu().numpy(),bins=bins)\n",
    "            bulk_density = nparticles/(4/3*math.pi*(self.boxlength/2)**3)\n",
    "            areas = 4*math.pi*((bins[:-1]+bins[1:])/2)**2*(bins[1:]-bins[:-1])\n",
    "            g_r = counts/nsamples/areas/bulk_density\n",
    "        return bins, g_r"
   ]
  },
  {
   "cell_type": "code",
   "execution_count": null,
   "id": "ae344aa4",
   "metadata": {},
   "outputs": [],
   "source": [
    "simulation_data = np.load(\"/mnt/ssd/flow_matching/flashdiv/lj/lj_1.0.npy\")\n",
    "device = torch.device(\"cuda\" if torch.cuda.is_available() else \"cpu\")\n",
    "nbparticles = 9\n",
    "dim = 2"
   ]
  },
  {
   "cell_type": "code",
   "execution_count": 50,
   "id": "2587a930",
   "metadata": {},
   "outputs": [
    {
     "data": {
      "text/plain": [
       "array([[[-0.35087594, -1.0373473 ],\n",
       "        [ 1.855462  , -1.4196774 ],\n",
       "        [-1.0442152 ,  0.00980038],\n",
       "        ...,\n",
       "        [ 1.3962263 , -0.35816735],\n",
       "        [-2.0245402 ,  0.67618155],\n",
       "        [ 1.4771411 ,  0.82725513]],\n",
       "\n",
       "       [[-0.612633  , -0.3145281 ],\n",
       "        [ 0.77032614, -1.3352741 ],\n",
       "        [-2.1499033 ,  1.5400754 ],\n",
       "        ...,\n",
       "        [ 2.3771954 ,  1.1377494 ],\n",
       "        [-1.0576419 ,  0.7862505 ],\n",
       "        [ 3.150319  , -0.24380791]],\n",
       "\n",
       "       [[-1.4810873 ,  1.316281  ],\n",
       "        [-1.528776  ,  0.15296762],\n",
       "        [-0.84322697, -1.0595229 ],\n",
       "        ...,\n",
       "        [ 1.8894421 , -0.79464775],\n",
       "        [-0.51296926, -2.0411692 ],\n",
       "        [ 0.43370238, -0.3534445 ]],\n",
       "\n",
       "       ...,\n",
       "\n",
       "       [[-1.8056184 , -0.4755971 ],\n",
       "        [ 1.5253836 , -0.07576893],\n",
       "        [ 0.6051744 ,  0.37655693],\n",
       "        ...,\n",
       "        [ 0.61613387, -0.826821  ],\n",
       "        [-0.5284329 , -0.05139308],\n",
       "        [-1.2207687 ,  0.79981583]],\n",
       "\n",
       "       [[ 0.5988002 ,  1.6470671 ],\n",
       "        [ 1.9634635 ,  0.14969613],\n",
       "        [-0.45135048,  1.0969201 ],\n",
       "        ...,\n",
       "        [ 0.19334996, -1.5592922 ],\n",
       "        [ 1.3827139 , -1.6783628 ],\n",
       "        [-2.0429008 , -0.77662325]],\n",
       "\n",
       "       [[-1.4238756 ,  0.37544122],\n",
       "        [ 0.43311727, -1.9121488 ],\n",
       "        [-0.86818075, -2.1302927 ],\n",
       "        ...,\n",
       "        [-0.46151954,  0.88245666],\n",
       "        [-0.86723673,  2.182957  ],\n",
       "        [ 0.64695626,  0.81017643]]], dtype=float32)"
      ]
     },
     "execution_count": 50,
     "metadata": {},
     "output_type": "execute_result"
    }
   ],
   "source": [
    "simulation_data[0]"
   ]
  },
  {
   "cell_type": "code",
   "execution_count": 10,
   "id": "8f1c4c00",
   "metadata": {},
   "outputs": [],
   "source": [
    "lj= LJ(nbparticles, dim, kT=1.0, boxlength=None, periodic=False, spring_constant=0.5)"
   ]
  },
  {
   "cell_type": "code",
   "execution_count": 7,
   "id": "a7cdb35e",
   "metadata": {},
   "outputs": [
    {
     "data": {
      "image/png": "[encoded data removed]",
      "text/plain": [
       "<Figure size 640x480 with 1 Axes>"
      ]
     },
     "metadata": {},
     "output_type": "display_data"
    },
    {
     "data": {
      "text/plain": [
       "torch.Size([200, 9, 2])"
      ]
     },
     "execution_count": 7,
     "metadata": {},
     "output_type": "execute_result"
    }
   ],
   "source": [
    "x = torch.tensor(simulation_data[:,-1], device=device).reshape(-1, nbparticles, dim)\n",
    "dists = torch.norm(x.unsqueeze(2) - x.unsqueeze(1), dim=-1)  # shape (batch, N, N)\n",
    "mask = ~torch.eye(x.shape[1], device=x.device).bool()\n",
    "dists = dists[:, mask].reshape(-1)\n",
    "plt.hist(dists.cpu().numpy(), bins=100, density=True)\n",
    "plt.xlabel(\"Pairwise Distance\")\n",
    "plt.ylabel(\"Frequency\")\n",
    "plt.title(\"Interparticle Distance Distribution\")\n",
    "plt.show()\n",
    "x.shape"
   ]
  },
  {
   "cell_type": "code",
   "execution_count": null,
   "id": "9c59c648",
   "metadata": {},
   "outputs": [
    {
     "data": {
      "image/png": "[encoded data removed]",
      "text/plain": [
       "<Figure size 640x480 with 1 Axes>"
      ]
     },
     "metadata": {},
     "output_type": "display_data"
    }
   ],
   "source": [
    "plt.scatter(x[0, :, 0].cpu().numpy(), x[0, :, 1].cpu().numpy())\n",
    "#equal x and y axis\n",
    "plt.xlim(-2, 2)\n",
    "plt.ylim(-2, 2)"
   ]
  },
  {
   "cell_type": "code",
   "execution_count": 12,
   "id": "71bb35be",
   "metadata": {},
   "outputs": [
    {
     "data": {
      "text/plain": [
       "(array([1.37477417e-05, 0.00000000e+00, 1.37477417e-05, 1.37477056e-05,\n",
       "        1.37477417e-05, 2.74954833e-05, 1.09981933e-04, 1.64972900e-04,\n",
       "        3.16198058e-04, 5.91152116e-04, 9.62341916e-04, 1.60848577e-03,\n",
       "        2.35086074e-03, 3.38194445e-03, 4.56425023e-03, 6.15898826e-03,\n",
       "        7.95993198e-03, 1.12181572e-02, 1.42151649e-02, 1.81882384e-02,\n",
       "        2.13914860e-02, 2.68355917e-02, 3.07261825e-02, 3.70226683e-02,\n",
       "        4.39927445e-02, 4.98905218e-02, 5.46060298e-02, 6.25659518e-02,\n",
       "        6.95497908e-02, 7.38940872e-02, 8.05067421e-02, 8.59371049e-02,\n",
       "        8.99102009e-02, 9.40482698e-02, 9.68528082e-02, 1.00262247e-01,\n",
       "        1.02241921e-01, 1.01293327e-01, 1.01293294e-01, 1.02998080e-01,\n",
       "        9.72239652e-02, 9.62203808e-02, 9.23848239e-02, 8.94840504e-02,\n",
       "        8.46034912e-02, 7.75647584e-02, 7.42103094e-02, 6.95498250e-02,\n",
       "        6.37894376e-02, 5.90740459e-02, 5.48947324e-02, 4.75121329e-02,\n",
       "        4.37728094e-02, 4.01158575e-02, 3.54279302e-02, 3.11798781e-02,\n",
       "        2.81966181e-02, 2.37148544e-02, 2.11440267e-02, 1.91643519e-02,\n",
       "        1.56998798e-02, 1.40776875e-02, 1.11494185e-02, 9.80213980e-03,\n",
       "        8.52359982e-03, 6.98385276e-03, 6.58516825e-03, 5.04540796e-03,\n",
       "        4.50925926e-03, 3.79437670e-03, 2.94201671e-03, 2.48834124e-03,\n",
       "        2.18589092e-03, 1.56724255e-03, 1.16855498e-03, 1.20980444e-03,\n",
       "        1.04482563e-03, 6.18649997e-04, 6.59889869e-04, 4.53674285e-04,\n",
       "        4.26181109e-04, 4.12431168e-04, 2.74955554e-04, 2.47458701e-04,\n",
       "        1.09982222e-04, 1.51224762e-04, 1.09981645e-04, 8.24866662e-05,\n",
       "        2.74954112e-05, 2.74955554e-05, 4.12431168e-05, 5.49911108e-05,\n",
       "        1.37477056e-05, 2.74954112e-05, 2.74955554e-05, 1.37477056e-05,\n",
       "        2.74955554e-05, 1.37477056e-05, 1.37477777e-05, 1.37477056e-05]),\n",
       " array([-11.47088814, -11.10719204, -10.74349594, -10.37979984,\n",
       "        -10.01610279,  -9.65240669,  -9.28871059,  -8.9250145 ,\n",
       "         -8.5613184 ,  -8.1976223 ,  -7.83392572,  -7.47022963,\n",
       "         -7.10653353,  -6.74283695,  -6.37914085,  -6.01544476,\n",
       "         -5.65174866,  -5.28805208,  -4.92435598,  -4.56065989,\n",
       "         -4.19696331,  -3.83326721,  -3.46957111,  -3.10587478,\n",
       "         -2.74217868,  -2.37848234,  -2.01478601,  -1.65108991,\n",
       "         -1.28739369,  -0.92369741,  -0.56000119,  -0.19630495,\n",
       "          0.16739129,   0.53108752,   0.89478374,   1.25847995,\n",
       "          1.62217617,   1.98587239,   2.34956861,   2.71326494,\n",
       "          3.07696104,   3.44065738,   3.80435371,   4.16804981,\n",
       "          4.53174591,   4.89544249,   5.25913858,   5.62283468,\n",
       "          5.98653078,   6.35022736,   6.71392345,   7.07761955,\n",
       "          7.44131613,   7.80501223,   8.1687088 ,   8.5324049 ,\n",
       "          8.896101  ,   9.2597971 ,   9.62349319,   9.98718929,\n",
       "         10.35088539,  10.71458244,  11.07827854,  11.44197464,\n",
       "         11.80567074,  12.16936684,  12.53306293,  12.89675903,\n",
       "         13.26045609,  13.62415218,  13.98784828,  14.35154438,\n",
       "         14.71524048,  15.07893658,  15.44263268,  15.80632973,\n",
       "         16.17002487,  16.53372192,  16.89741707,  17.26111412,\n",
       "         17.62481117,  17.98850632,  18.35220337,  18.71589851,\n",
       "         19.07959557,  19.44329071,  19.80698776,  20.17068481,\n",
       "         20.53437996,  20.89807701,  21.26177216,  21.62546921,\n",
       "         21.98916435,  22.3528614 ,  22.71655846,  23.0802536 ,\n",
       "         23.44395065,  23.8076458 ,  24.17134285,  24.53503799,\n",
       "         24.89873505]),\n",
       " <BarContainer object of 100 artists>)"
      ]
     },
     "execution_count": 12,
     "metadata": {},
     "output_type": "execute_result"
    },
    {
     "data": {
      "image/png": "[encoded data removed]",
      "text/plain": [
       "<Figure size 640x480 with 1 Axes>"
      ]
     },
     "metadata": {},
     "output_type": "display_data"
    }
   ],
   "source": [
    "pot = lj.potential(torch.tensor(simulation_data, device=device), turn_off_harmonic=True).flatten()\n",
    "pot_harm = lj.potential(torch.tensor(simulation_data, device=device), turn_off_harmonic=False).flatten()\n",
    "plt.hist(pot.cpu().numpy(), bins=100, density=True, alpha=0.5, label='LJ Potential')\n",
    "plt.hist(pot_harm.cpu().numpy(), bins=100, density=True, alpha=0.5)\n",
    "#plt.hist((pot - pot_harm).cpu().numpy(), bins=100, density=True, alpha=0.5, label='LJ Potential Harmonic')\n"
   ]
  },
  {
   "cell_type": "code",
   "execution_count": 9,
   "id": "f26eef48",
   "metadata": {},
   "outputs": [
    {
     "data": {
      "text/plain": [
       "tensor(-6.7484)"
      ]
     },
     "execution_count": 9,
     "metadata": {},
     "output_type": "execute_result"
    }
   ],
   "source": [
    "lj.potential(torch.tensor(simulation_data[0,0]))"
   ]
  },
  {
   "cell_type": "code",
   "execution_count": 56,
   "id": "419a2b91",
   "metadata": {},
   "outputs": [
    {
     "data": {
      "text/plain": [
       "-0.15134329"
      ]
     },
     "execution_count": 56,
     "metadata": {},
     "output_type": "execute_result"
    }
   ],
   "source": [
    "simulation_data[0,10,0,1]\n"
   ]
  },
  {
   "cell_type": "code",
   "execution_count": 7,
   "id": "0258de91",
   "metadata": {},
   "outputs": [
    {
     "data": {
      "text/plain": [
       "torch.Size([200, 9, 2])"
      ]
     },
     "execution_count": 7,
     "metadata": {},
     "output_type": "execute_result"
    }
   ],
   "source": [
    "x.shape"
   ]
  },
  {
   "cell_type": "code",
   "execution_count": 12,
   "id": "4cf36346",
   "metadata": {},
   "outputs": [
    {
     "name": "stderr",
     "output_type": "stream",
     "text": [
      "/home/sherryli/xsli/softwares/anaconda3/envs/lightning/lib/python3.11/site-packages/pytorch_lightning/utilities/parsing.py:199: Attribute 'flow_model' is an instance of `nn.Module` and is already saved during checkpointing. It is recommended to ignore them using `self.save_hyperparameters(ignore=['flow_model'])`.\n"
     ]
    }
   ],
   "source": [
    "# Replace 'model.ckpt' with the path to your actual checkpoint file\n",
    "checkpoint_path = \"/mnt/ssd/flow_matching/20250522_lj9_flowtraining/flow_model_lj2_2d_1.0_nb_data_200000_batch_size_256_epochs_500_lr_0.0001/lightning_logs/version_0/checkpoints/test.ckpt\"\n",
    "flow_model = EGNN_dynamics()\n",
    "#flow_model = VelocityFlowLJ(dim=int(nbparticles * dim), hidden_dim=int(6 * dim * nbparticles), num_layers=6)\n",
    "# Load the model\n",
    "trainer = FlowTrainer.load_from_checkpoint(checkpoint_path, flow_model=flow_model)"
   ]
  },
  {
   "cell_type": "code",
   "execution_count": 18,
   "id": "bf08d0cf",
   "metadata": {},
   "outputs": [],
   "source": [
    "model = trainer.flow_model\n",
    "model = model.to(device)\n",
    "rand = torch.randn(100, nbparticles, dim).to(device)\n",
    "sample, logp = model.sample_logprob(rand)"
   ]
  },
  {
   "cell_type": "code",
   "execution_count": 4,
   "id": "fe0f972d",
   "metadata": {},
   "outputs": [
    {
     "name": "stderr",
     "output_type": "stream",
     "text": [
      "/home/sherryli/xsli/softwares/anaconda3/envs/lightning/lib/python3.11/site-packages/pytorch_lightning/utilities/parsing.py:199: Attribute 'flow_model' is an instance of `nn.Module` and is already saved during checkpointing. It is recommended to ignore them using `self.save_hyperparameters(ignore=['flow_model'])`.\n"
     ]
    }
   ],
   "source": [
    "# Replace 'model.ckpt' with the path to your actual checkpoint file\n",
    "checkpoint_path = \"/mnt/ssd/flow_matching/20250522_lj9_flowtraining/flow_model_lj9_2d_1.0_nb_data_200000_batch_size_256_epochs_500_lr_0.0001/lightning_logs/version_1/checkpoints/epoch=499-step=312500.ckpt\"\n",
    "flow_model9 = EGNN_dynamics()\n",
    "# Load the model\n",
    "trainer9 = FlowTrainer.load_from_checkpoint(checkpoint_path, flow_model=flow_model9)\n",
    "model9 = trainer9.flow_model\n",
    "model9 = model9.to(device)"
   ]
  },
  {
   "cell_type": "code",
   "execution_count": null,
   "id": "489592da",
   "metadata": {},
   "outputs": [],
   "source": [
    "def test_time_sensitivity(model):\n",
    "    xs = torch.tensor([[[0.0, 0.0], [1.0, 0.0]]], dtype=torch.float32, device=device)  # Example positions for 2 particles in 2D\n",
    "    t1 = torch.tensor([0.0]).to(device)\n",
    "    t2 = torch.tensor([1.0]).to(device)\n",
    "    v1 = model(xs, t1)\n",
    "    v2 = model(xs, t2)\n",
    "    print(\"Velocity difference due to time:\", (v1 - v2).norm().item())\n"
   ]
  },
  {
   "cell_type": "code",
   "execution_count": 12,
   "id": "9be35623",
   "metadata": {},
   "outputs": [
    {
     "name": "stdout",
     "output_type": "stream",
     "text": [
      "Velocity difference due to time: 0.8210055828094482\n",
      "[Rotation equivariance error]: 5.006790e-06\n",
      "[Permutation equivariance error]: 5.722046e-06\n"
     ]
    }
   ],
   "source": [
    "test_time_sensitivity(model9)\n",
    "test_equivariance(model9)"
   ]
  },
  {
   "cell_type": "code",
   "execution_count": 23,
   "id": "df87c076",
   "metadata": {},
   "outputs": [
    {
     "data": {
      "text/plain": [
       "device(type='cuda')"
      ]
     },
     "execution_count": 23,
     "metadata": {},
     "output_type": "execute_result"
    }
   ],
   "source": [
    "device"
   ]
  },
  {
   "cell_type": "code",
   "execution_count": 19,
   "id": "ed807587",
   "metadata": {},
   "outputs": [
    {
     "name": "stdout",
     "output_type": "stream",
     "text": [
      "tensor([ 1.5078,  1.5521,  1.4037,  1.5536,  1.4396,  1.3205,  0.8629,  1.4310,\n",
      "         1.3169,  1.5232,  1.3907,  1.0839,  1.4425,  1.4074,  1.3937,  1.1761,\n",
      "         1.6170,  1.5459,  1.4187,  1.6132,  1.4218,  1.2913,  0.8966,  1.4887,\n",
      "         1.4867, -0.7427,  1.5845,  1.4020,  1.4031,  1.4236,  1.4171,  0.8106,\n",
      "         1.4065,  1.4225,  1.3881,  1.4253,  1.3932,  1.5957,  1.3955,  1.4024,\n",
      "         1.0974,  1.4415,  0.5753,  1.4356,  1.6064,  0.6642,  1.4376,  1.3928,\n",
      "         1.4007,  1.6060,  1.4221,  1.5125,  0.7840,  1.4512,  1.4249,  1.4280,\n",
      "         1.4121,  1.2776,  1.4237,  1.3614,  1.4121,  1.4232,  1.4249,  1.2838,\n",
      "         1.1983,  1.5477,  1.4093,  0.7349,  1.4126,  1.4128,  1.4201,  1.5296,\n",
      "         0.6998,  1.4143,  1.3579,  1.4144,  1.6300,  1.4955,  0.7138, -1.1111,\n",
      "         1.3911,  1.4101,  1.4680,  1.4223,  1.4582,  1.4150,  1.4386,  1.4325,\n",
      "         1.5423,  1.4065,  1.4146,  1.4317,  1.6071,  1.4027,  0.1637,  1.3618,\n",
      "         1.4355,  1.4495,  1.4165,  1.4190], device='cuda:0')\n"
     ]
    }
   ],
   "source": [
    "print(logp)"
   ]
  },
  {
   "cell_type": "code",
   "execution_count": 20,
   "id": "6faaee53",
   "metadata": {},
   "outputs": [],
   "source": [
    "lj = LJ(nbparticles, dim, kT=1.0, boxlength=100)"
   ]
  },
  {
   "cell_type": "code",
   "execution_count": 21,
   "id": "e0f6fee2",
   "metadata": {},
   "outputs": [
    {
     "data": {
      "text/plain": [
       "tensor([ 7.2199e+00,  8.4251e+00,  2.8310e+00,  7.9133e+00,  5.2161e+00,\n",
       "         6.1862e-01,  1.5743e+00,  3.1972e+00,  1.3952e+00,  7.5210e+00,\n",
       "         3.9632e+00,  8.7670e-01,  6.8425e+00,  4.4126e+00,  3.2516e+00,\n",
       "         2.8442e+00,  1.4016e+01,  1.5176e+01,  1.8948e+00,  1.2612e+01,\n",
       "         3.8249e+00,  1.2889e+00, -1.7979e-02,  6.6197e+00,  8.7448e+00,\n",
       "         1.9617e+01,  9.1396e+00,  7.3351e+00,  3.4113e+00,  5.4071e+00,\n",
       "         5.7960e+00, -1.7972e-01,  3.5144e+00,  2.1165e+00,  3.3395e+00,\n",
       "         4.7364e+00,  3.7653e+00,  9.2161e+00,  4.1034e+00,  2.7294e+00,\n",
       "         5.7761e-01,  5.5454e+00, -4.7327e-01,  2.5792e+00,  1.7234e+01,\n",
       "         1.0442e+00,  5.3367e+00,  4.7870e+00,  4.1135e+00,  1.0596e+01,\n",
       "         4.5388e+00,  7.7621e+00, -2.7838e-01,  6.4729e+00,  4.1871e+00,\n",
       "         2.5607e+00,  4.1325e+00,  5.2078e+00,  4.8110e+00,  2.4587e+00,\n",
       "         2.4419e+00,  5.8702e+00,  1.5862e+00,  2.8046e+00,  4.9332e-01,\n",
       "         8.0139e+00,  3.6364e+00,  3.0426e-01,  3.5072e+00,  2.8661e+00,\n",
       "         2.5606e+00,  1.0354e+01,  1.9140e+01,  2.1440e+00,  1.1409e+00,\n",
       "         3.5942e+00,  1.3813e+01,  6.3352e+00, -3.6375e-01,  2.1694e+01,\n",
       "         3.3638e+00,  5.5735e+00,  6.1200e+00,  2.4287e+00,  5.8394e+00,\n",
       "         3.8870e+00,  2.0910e+00,  4.8410e+00,  9.2400e+00,  5.5486e+00,\n",
       "         2.1463e+00,  1.8972e+00,  1.2773e+01,  3.1713e+00,  2.0507e+01,\n",
       "         3.1246e+00,  1.4777e+00,  5.6507e+00,  2.5310e+00,  6.1505e+00],\n",
       "       device='cuda:0')"
      ]
     },
     "execution_count": 21,
     "metadata": {},
     "output_type": "execute_result"
    }
   ],
   "source": [
    "pot = lj.potential(sample)\n",
    "pot"
   ]
  },
  {
   "cell_type": "code",
   "execution_count": 22,
   "id": "b6751aec",
   "metadata": {},
   "outputs": [
    {
     "name": "stderr",
     "output_type": "stream",
     "text": [
      "/tmp/ipykernel_523775/943713022.py:1: UserWarning: To copy construct from a tensor, it is recommended to use sourceTensor.clone().detach() or sourceTensor.clone().detach().requires_grad_(True), rather than torch.tensor(sourceTensor).\n",
      "  x = torch.tensor(sample, device=device).reshape(-1, nbparticles, dim)\n"
     ]
    },
    {
     "data": {
      "image/png": "[encoded data removed]",
      "text/plain": [
       "<Figure size 640x480 with 1 Axes>"
      ]
     },
     "metadata": {},
     "output_type": "display_data"
    }
   ],
   "source": [
    "x = torch.tensor(sample, device=device).reshape(-1, nbparticles, dim)\n",
    "dists = torch.norm(x.unsqueeze(2) - x.unsqueeze(1), dim=-1)  # shape (batch, N, N)\n",
    "mask = ~torch.eye(x.shape[1], device=x.device).bool()\n",
    "dists = dists[:, mask].reshape(-1)\n",
    "plt.hist(dists.cpu().numpy(), bins=100)\n",
    "plt.xlabel(\"Pairwise Distance\")\n",
    "plt.ylabel(\"Count\")\n",
    "plt.title(\"Interparticle Distance Distribution\")\n",
    "plt.show()"
   ]
  },
  {
   "cell_type": "code",
   "execution_count": 38,
   "id": "befb1550",
   "metadata": {},
   "outputs": [],
   "source": [
    "pot = pot[pot < 100]"
   ]
  }
 ],
 "metadata": {
  "kernelspec": {
   "display_name": "lightning",
   "language": "python",
   "name": "python3"
  },
  "language_info": {
   "codemirror_mode": {
    "name": "ipython",
    "version": 3
   },
   "file_extension": ".py",
   "mimetype": "text/x-python",
   "name": "python",
   "nbconvert_exporter": "python",
   "pygments_lexer": "ipython3",
   "version": "3.11.9"
  }
 },
 "nbformat": 4,
 "nbformat_minor": 5
}
