{
 "cells": [
  {
   "cell_type": "code",
   "execution_count": 1,
   "id": "e83e5f0f",
   "metadata": {},
   "outputs": [],
   "source": [
    "import torch\n",
    "from flashdiv.flows.egnn import EGNN_dynamics\n",
    "from flashdiv.flows.eqtf_old import EqTransformerFlowLJ\n",
    "%load_ext autoreload\n",
    "%autoreload 2"
   ]
  },
  {
   "cell_type": "code",
   "execution_count": 2,
   "id": "8c3198cc",
   "metadata": {},
   "outputs": [],
   "source": [
    "device = torch.device(\"cuda\" if torch.cuda.is_available() else \"cpu\")\n",
    "# model = EqTransformerFlowLJ(input_dim=2).to(device)\n",
    "# gnn = EGNN_dynamics().to(device)\n",
    "eqtf = EqTransformerFlowLJ(input_dim=2).to(device)"
   ]
  },
  {
   "cell_type": "code",
   "execution_count": 24,
   "id": "8e3c5b2d",
   "metadata": {},
   "outputs": [
    {
     "name": "stdout",
     "output_type": "stream",
     "text": [
      "136 ms ± 419 µs per loop (mean ± std. dev. of 7 runs, 10 loops each)\n",
      "1 ms ± 1.21 µs per loop (mean ± std. dev. of 7 runs, 1,000 loops each)\n"
     ]
    }
   ],
   "source": [
    "x = torch.randn(256, 9, 2).to(device)\n",
    "t = torch.rand(256).to(device)\n",
    "#timeit\n",
    "%timeit eqtf.forward(x, t)\n",
    "%timeit eqtf.forward_fast(x, t)\n"
   ]
  },
  {
   "cell_type": "code",
   "execution_count": 21,
   "id": "c79cba72",
   "metadata": {},
   "outputs": [
    {
     "name": "stdout",
     "output_type": "stream",
     "text": [
      "Difference between forward and forward_fast: 0.0\n"
     ]
    }
   ],
   "source": [
    "out1 = eqtf.forward(x, t)\n",
    "out2 = eqtf.forward_fast(x, t)\n",
    "diff = torch.norm(out1 - out2)\n",
    "print(f\"Difference between forward and forward_fast: {diff.item()}\")"
   ]
  },
  {
   "cell_type": "code",
   "execution_count": 22,
   "id": "6569e9d8",
   "metadata": {},
   "outputs": [],
   "source": [
    "def test_equivariance(model):\n",
    "    import math\n",
    "\n",
    "    device = next(model.parameters()).device\n",
    "    torch.manual_seed(0)  # For reproducibility\n",
    "\n",
    "    n_particles = 3\n",
    "    n_batch = 1\n",
    "\n",
    "    # Generate random positions for 9 particles in 2D\n",
    "    xs = torch.randn(n_batch, n_particles, 2, device=device)\n",
    "    t = torch.tensor([0.1], device=device)\n",
    "\n",
    "    # --- Rotation Equivariance Test ---\n",
    "    theta = math.pi / 3  # 60 degrees rotation\n",
    "    R = torch.tensor([[math.cos(theta), -math.sin(theta)],\n",
    "                      [math.sin(theta),  math.cos(theta)]], dtype=torch.float32, device=device)\n",
    "    xs_rot = torch.matmul(xs, R.T)\n",
    "\n",
    "    vel = model.forward(xs, t)\n",
    "    vel_rot = model.forward(xs_rot, t)\n",
    "    vel_rot_expected = torch.matmul(vel, R.T)\n",
    "\n",
    "    err_rotation = (vel_rot - vel_rot_expected).abs().max().item()\n",
    "    print(f\"[Rotation equivariance error]: {err_rotation:.6e}\")\n",
    "\n",
    "    # --- Permutation Equivariance Test ---\n",
    "    perm = torch.randperm(n_particles, device=device)\n",
    "    xs_perm = xs[:, perm, :]\n",
    "    vel_perm = model.forward(xs_perm, t)\n",
    "    vel_expected = vel[:, perm, :]\n",
    "\n",
    "    err_perm = (vel_perm - vel_expected).abs().max().item()\n",
    "    print(f\"[Permutation equivariance error]: {err_perm:.6e}\")\n",
    "\n",
    "    # --- Center of Mass Preservation Test ---\n",
    "    com_input = xs.mean(dim=1)  # should be (0, 0)\n",
    "    com_output = vel.mean(dim=1)  # check output COM\n",
    "    err_com = com_output.norm(dim=-1).max().item()\n",
    "    print(f\"[Center of mass error]: {err_com:.6e}\")\n"
   ]
  },
  {
   "cell_type": "code",
   "execution_count": 23,
   "id": "ab4151d4",
   "metadata": {},
   "outputs": [
    {
     "name": "stdout",
     "output_type": "stream",
     "text": [
      "[Rotation equivariance error]: 2.384186e-07\n",
      "[Permutation equivariance error]: 0.000000e+00\n",
      "[Center of mass error]: 7.942639e-02\n"
     ]
    }
   ],
   "source": [
    "test_equivariance(eqtf)\n"
   ]
  }
 ],
 "metadata": {
  "kernelspec": {
   "display_name": "lightning",
   "language": "python",
   "name": "python3"
  },
  "language_info": {
   "codemirror_mode": {
    "name": "ipython",
    "version": 3
   },
   "file_extension": ".py",
   "mimetype": "text/x-python",
   "name": "python",
   "nbconvert_exporter": "python",
   "pygments_lexer": "ipython3",
   "version": "3.11.9"
  }
 },
 "nbformat": 4,
 "nbformat_minor": 5
}
